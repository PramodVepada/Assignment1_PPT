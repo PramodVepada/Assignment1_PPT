{
 "cells": [
  {
   "cell_type": "markdown",
   "id": "bdcbc121-1473-49ca-be05-aa06d5d00590",
   "metadata": {},
   "source": [
    "Q1)<aside>\n",
    "💡 Given an array of integers nums and an integer target, return indices of the two numbers such that they add up to target.\n",
    "\n",
    "You may assume that each input would have exactly one solution, and you may not use the same element twice.\n",
    "\n",
    "You can return the answer in any order.\n",
    "\n",
    "**Example:**\n",
    "Input: nums = [2,7,11,15], target = 9\n",
    "Output0 [0,1]\n",
    "\n",
    "**Explanation:** Because nums[0] + nums[1] == 9, we return [0, 1][\n",
    "\n",
    "</aside>"
   ]
  },
  {
   "cell_type": "code",
   "execution_count": 1,
   "id": "b7c222d9-dee0-4625-9c9e-0492a40b0431",
   "metadata": {},
   "outputs": [
    {
     "name": "stdin",
     "output_type": "stream",
     "text": [
      "Enter the number of elements : 4\n",
      "Enter target number : 9\n",
      "Enter Element : 2\n",
      "Enter Element : 7\n",
      "Enter Element : 11\n",
      "Enter Element : 15\n"
     ]
    }
   ],
   "source": [
    "n = int(input(\"Enter the number of elements :\"))\n",
    "t = int(input(\"Enter target number :\"))\n",
    "l = []\n",
    "for i in range(n):\n",
    "    x = int(input(\"Enter Element :\"))\n",
    "    if l != []:     \n",
    "        if x in l :\n",
    "            print(\"Number already exists. Please add new number\")\n",
    "            x = int(input(\"Enter Element :\"))\n",
    "            l.append(x)\n",
    "        else:\n",
    "            l.append(x)\n",
    "    else:\n",
    "        l.append(x)\n",
    "        "
   ]
  },
  {
   "cell_type": "code",
   "execution_count": 2,
   "id": "a532cff3-ae68-4c08-80f4-72dc4e876daa",
   "metadata": {},
   "outputs": [
    {
     "data": {
      "text/plain": [
       "[2, 7, 11, 15]"
      ]
     },
     "execution_count": 2,
     "metadata": {},
     "output_type": "execute_result"
    }
   ],
   "source": [
    "l"
   ]
  },
  {
   "cell_type": "code",
   "execution_count": 3,
   "id": "afc4e15b-6710-400b-9eb2-b02156aacf40",
   "metadata": {},
   "outputs": [
    {
     "name": "stdout",
     "output_type": "stream",
     "text": [
      "[0, 1]\n"
     ]
    }
   ],
   "source": [
    "for i in range(len(l)-1):\n",
    "    for j in range(i+1,len(l)):\n",
    "        if l[i]+l[j] == t:\n",
    "            print([i,j])\n",
    "            break"
   ]
  },
  {
   "cell_type": "markdown",
   "id": "4af07f03-772d-4e3c-893f-dbdaf60823d9",
   "metadata": {},
   "source": [
    "Q2)<aside>\n",
    "💡  ****Given an integer array nums and an integer val, remove all occurrences of val in nums in-place. The order of the elements may be changed. Then return the number of elements in nums which are not equal to val.\n",
    "\n",
    "Consider the number of elements in nums which are not equal to val be k, to get accepted, you need to do the following things:\n",
    "\n",
    "- Change the array nums such that the first k elements of nums contain the elements which are not equal to val. The remaining elements of nums are not important as well as the size of nums.\n",
    "- Return k.\n",
    "\n",
    "**Example :**\n",
    "Input: nums = [3,2,2,3], val = 3\n",
    "Output: 2, nums = [2,2,_*,_*]\n",
    "\n",
    "**Explanation:** Your function should return k = 2, with the first two elements of nums being 2. It does not matter what you leave beyond the returned k (hence they are underscores)\n",
    "\n",
    "</aside>"
   ]
  },
  {
   "cell_type": "code",
   "execution_count": 4,
   "id": "4be16930-94f1-4bc8-b161-21d62280df1a",
   "metadata": {},
   "outputs": [
    {
     "name": "stdin",
     "output_type": "stream",
     "text": [
      "ENter no.of elements in nums : 4\n",
      "Enter the number to be popped out : 3\n",
      " 3\n",
      " 2\n",
      " 2\n",
      " 3\n"
     ]
    }
   ],
   "source": [
    "n= int(input(\"ENter no.of elements in nums :\"))\n",
    "val = int(input(\"Enter the number to be popped out :\"))\n",
    "nums = []\n",
    "for i in range(n):\n",
    "    nums.append(int(input(\"\")))\n",
    "    \n",
    "       "
   ]
  },
  {
   "cell_type": "code",
   "execution_count": 5,
   "id": "3d5d783c-4e8e-43fc-ab0c-a32e2af6c317",
   "metadata": {},
   "outputs": [],
   "source": [
    " nums=[3,2,2,3]\n"
   ]
  },
  {
   "cell_type": "code",
   "execution_count": 6,
   "id": "1737b0d4-2fb2-4c3a-99e0-5f0fb4779b4c",
   "metadata": {},
   "outputs": [
    {
     "data": {
      "text/plain": [
       "139633920763008"
      ]
     },
     "execution_count": 6,
     "metadata": {},
     "output_type": "execute_result"
    }
   ],
   "source": [
    "id(nums)\n"
   ]
  },
  {
   "cell_type": "code",
   "execution_count": 7,
   "id": "1080438a-e085-4b02-a2a3-052a7008c874",
   "metadata": {},
   "outputs": [
    {
     "name": "stdout",
     "output_type": "stream",
     "text": [
      "4\n"
     ]
    }
   ],
   "source": [
    "count = 0\n",
    "for i in nums:\n",
    "    if i==val:\n",
    "        count = count+1\n",
    "        nums.remove(i)\n",
    "        nums.append(_)\n",
    "print(len(nums))"
   ]
  },
  {
   "cell_type": "code",
   "execution_count": 8,
   "id": "2a692309-fe5d-4f17-aaf3-711b63af4cd3",
   "metadata": {},
   "outputs": [
    {
     "data": {
      "text/plain": [
       "[2, 2, 139633920763008, 139633920763008]"
      ]
     },
     "execution_count": 8,
     "metadata": {},
     "output_type": "execute_result"
    }
   ],
   "source": [
    "nums\n"
   ]
  },
  {
   "cell_type": "code",
   "execution_count": 9,
   "id": "0e3f9a45-b828-4ecc-822b-d69a2b26699d",
   "metadata": {},
   "outputs": [
    {
     "data": {
      "text/plain": [
       "139633920763008"
      ]
     },
     "execution_count": 9,
     "metadata": {},
     "output_type": "execute_result"
    }
   ],
   "source": [
    "id(nums)"
   ]
  },
  {
   "cell_type": "markdown",
   "id": "c5961a8c-9664-4d1f-9c8e-940b63c7736a",
   "metadata": {},
   "source": [
    "<aside>\n",
    "💡 **Q3.** Given a sorted array of distinct integers and a target value, return the index if the target is found. If not, return the index where it would be if it were inserted in order.\n",
    "\n",
    "You must write an algorithm with O(log n) runtime complexity.\n",
    "\n",
    "**Example 1:**\n",
    "Input: nums = [1,3,5,6], target = 5\n",
    "\n",
    "Output: 2\n",
    "    \n",
    "\n",
    "</aside>"
   ]
  },
  {
   "cell_type": "code",
   "execution_count": 10,
   "id": "9e458e0b-9153-421a-a02d-422753ecd4d4",
   "metadata": {
    "jp-MarkdownHeadingCollapsed": true,
    "tags": []
   },
   "outputs": [
    {
     "name": "stdin",
     "output_type": "stream",
     "text": [
      "Enter the number of elements : 4\n",
      "Enter target number : 2\n",
      "Enter number :  1\n",
      "Enter number :  3\n",
      "Enter number :  5\n",
      "Enter number :  6\n"
     ]
    }
   ],
   "source": [
    "n = int(input(\"Enter the number of elements :\"))\n",
    "t = int(input(\"Enter target number :\"))\n",
    "l = []\n",
    "for i in range(n):\n",
    "    x = int(input(\"Enter number : \"))\n",
    "    if x not in l:\n",
    "        l.append(x)\n",
    "    else:\n",
    "        l.append(int(input(\"Enter a different number as this already exists : \")))"
   ]
  },
  {
   "cell_type": "code",
   "execution_count": 12,
   "id": "cbc8b74f-6c83-4b6e-a627-0ee1506e29e1",
   "metadata": {},
   "outputs": [],
   "source": [
    "l.sort()"
   ]
  },
  {
   "cell_type": "code",
   "execution_count": 17,
   "id": "3c3c3d75-62b3-4fc8-9c13-c033314d5fef",
   "metadata": {},
   "outputs": [
    {
     "name": "stdout",
     "output_type": "stream",
     "text": [
      "1\n"
     ]
    }
   ],
   "source": [
    "if t in dup:\n",
    "    print(dup.index(t))\n",
    "else:\n",
    "    dup.append(t)\n",
    "    dup.sort()\n",
    "    print(dup.index(t))\n"
   ]
  },
  {
   "cell_type": "markdown",
   "id": "35662fec-81e3-49d5-910b-97531cfe05c5",
   "metadata": {},
   "source": [
    "<aside>\n",
    "💡 **Q4.** You are given a large integer represented as an integer array digits, where each digits[i] is the ith digit of the integer. The digits are ordered from most significant to least significant in left-to-right order. The large integer does not contain any leading 0's.\n",
    "\n",
    "Increment the large integer by one and return the resulting array of digits.\n",
    "\n",
    "**Example 1:**\n",
    "Input: digits = [1,2,3]\n",
    "Output: [1,2,4]\n",
    "\n",
    "**Explanation:** The array represents the integer 123.\n",
    "\n",
    "Incrementing by one gives 123 + 1 = 124.\n",
    "Thus, the result should be [1,2,4].\n",
    "\n",
    "</aside>"
   ]
  },
  {
   "cell_type": "code",
   "execution_count": 18,
   "id": "a5a4356a-9c46-4353-bc83-65e84aec2d42",
   "metadata": {},
   "outputs": [
    {
     "name": "stdin",
     "output_type": "stream",
     "text": [
      "ENter no.of elements in nums : 3\n",
      " 1\n",
      " 2\n",
      " 3\n"
     ]
    }
   ],
   "source": [
    "n= int(input(\"ENter no.of elements in nums :\"))\n",
    "digits = []\n",
    "for i in range(n):\n",
    "    digits.append(int(input(\"\")))"
   ]
  },
  {
   "cell_type": "code",
   "execution_count": 19,
   "id": "75e14e7b-0377-4a6b-8b68-470eaf9cd34a",
   "metadata": {},
   "outputs": [
    {
     "data": {
      "text/plain": [
       "[1, 2, 3]"
      ]
     },
     "execution_count": 19,
     "metadata": {},
     "output_type": "execute_result"
    }
   ],
   "source": [
    "digits"
   ]
  },
  {
   "cell_type": "code",
   "execution_count": 24,
   "id": "d21bd199-4a0d-4830-8997-e5ca90eb36b6",
   "metadata": {},
   "outputs": [],
   "source": [
    "val = max(digits)\n",
    "digits[n-1]= val+1"
   ]
  },
  {
   "cell_type": "code",
   "execution_count": 25,
   "id": "bf9c5beb-3378-4bd7-828c-fa940512d108",
   "metadata": {},
   "outputs": [
    {
     "data": {
      "text/plain": [
       "[1, 2, 4]"
      ]
     },
     "execution_count": 25,
     "metadata": {},
     "output_type": "execute_result"
    }
   ],
   "source": [
    "digits"
   ]
  },
  {
   "cell_type": "markdown",
   "id": "e9368df8-810b-4eaf-807f-d1bd0af5ab18",
   "metadata": {},
   "source": [
    "<aside>\n",
    "💡 **Q5.** You are given two integer arrays nums1 and nums2, sorted in non-decreasing order, and two integers m and n, representing the number of elements in nums1 and nums2 respectively.\n",
    "\n",
    "Merge nums1 and nums2 into a single array sorted in non-decreasing order.\n",
    "\n",
    "The final sorted array should not be returned by the function, but instead be stored inside the array nums1. To accommodate this, nums1 has a length of m + n, where the first m elements denote the elements that should be merged, and the last n elements are set to 0 and should be ignored. nums2 has a length of n.\n",
    "\n",
    "**Example 1:**\n",
    "Input: nums1 = [1,2,3,0,0,0], m = 3, nums2 = [2,5,6], n = 3\n",
    "Output: [1,2,2,3,5,6]\n",
    "\n",
    "**Explanation:** The arrays we are merging are [1,2,3] and [2,5,6].\n",
    "The result of the merge is [1,2,2,3,5,6] with the underlined elements coming from nums1.\n",
    "\n",
    "</aside>"
   ]
  },
  {
   "cell_type": "code",
   "execution_count": 40,
   "id": "dc773207-6e7b-4ed6-b9e6-12dd2fd96c8b",
   "metadata": {},
   "outputs": [],
   "source": [
    "def merge(nums1, m, nums2, n):\n",
    "    \n",
    "    i = m - 1  \n",
    "    j = n - 1  \n",
    "    k = m + n - 1  \n",
    "\n",
    "    # Merge nums1 and nums2 from the right to left\n",
    "    while i >= 0 and j >= 0:\n",
    "        if nums1[i] >= nums2[j]:\n",
    "            nums1[k] = nums1[i]\n",
    "            i -= 1\n",
    "        else:\n",
    "            nums1[k] = nums2[j]\n",
    "            j -= 1\n",
    "        k -= 1\n",
    "\n",
    "    # If there are remaining elements in nums2, copy them to nums1\n",
    "    while j >= 0:\n",
    "        nums1[k] = nums2[j]\n",
    "        j -= 1\n",
    "        k -= 1"
   ]
  },
  {
   "cell_type": "code",
   "execution_count": 41,
   "id": "8b3c8ea1-6c56-40ef-b753-a86277db0fe9",
   "metadata": {},
   "outputs": [
    {
     "name": "stdout",
     "output_type": "stream",
     "text": [
      "[1, 2, 2, 3, 5, 6]\n"
     ]
    }
   ],
   "source": [
    "nums1 = [1, 2, 3, 0, 0, 0]\n",
    "m = 3\n",
    "nums2 = [2, 5, 6]\n",
    "n = 3\n",
    "\n",
    "merge(nums1, m, nums2, n)\n",
    "print(nums1)"
   ]
  },
  {
   "cell_type": "markdown",
   "id": "719b9460-ee45-417a-a8c2-b339e36f8461",
   "metadata": {},
   "source": [
    "<aside>\n",
    "💡 **Q6.** Given an integer array nums, return true if any value appears at least twice in the array, and return false if every element is distinct.\n",
    "\n",
    "**Example 1:**\n",
    "Input: nums = [1,2,3,1]\n",
    "\n",
    "Output: true\n",
    "\n",
    "</aside>"
   ]
  },
  {
   "cell_type": "code",
   "execution_count": 44,
   "id": "a7825442-581b-4959-8d7e-d49707614ecb",
   "metadata": {},
   "outputs": [],
   "source": [
    "def checkDup(nums):\n",
    "    s = set()\n",
    "    for num in nums:\n",
    "        if num in s:\n",
    "            return True\n",
    "        s.add(num)\n",
    "    return False"
   ]
  },
  {
   "cell_type": "code",
   "execution_count": 45,
   "id": "d605842b-66a9-45d5-bd25-8433af8504a4",
   "metadata": {},
   "outputs": [
    {
     "name": "stdout",
     "output_type": "stream",
     "text": [
      "True\n"
     ]
    }
   ],
   "source": [
    "nums = [1, 2, 3, 1]\n",
    "result = checkDup(nums)\n",
    "print(result) "
   ]
  },
  {
   "cell_type": "markdown",
   "id": "d4d46bcc-a033-4424-92ff-a1030132a059",
   "metadata": {},
   "source": [
    "<aside>\n",
    "💡 **Q7.** Given an integer array nums, move all 0's to the end of it while maintaining the relative order of the nonzero elements.\n",
    "\n",
    "Note that you must do this in-place without making a copy of the array.\n",
    "\n",
    "**Example 1:**\n",
    "Input: nums = [0,1,0,3,12]\n",
    "Output: [1,3,12,0,0]\n",
    "\n",
    "</aside>"
   ]
  },
  {
   "cell_type": "code",
   "execution_count": 46,
   "id": "98fd13a9-5b73-4ce1-8d69-cdf93ed17d37",
   "metadata": {},
   "outputs": [],
   "source": [
    "def moveZeroes(nums):\n",
    "    count_zeros = 0  \n",
    "\n",
    "   \n",
    "    for i in range(len(nums)):\n",
    "        if nums[i] != 0:\n",
    "            nums[i - count_zeros] = nums[i]\n",
    "        else:\n",
    "            count_zeros += 1\n",
    "\n",
    "    \n",
    "    for i in range(len(nums) - count_zeros, len(nums)):\n",
    "        nums[i] = 0"
   ]
  },
  {
   "cell_type": "code",
   "execution_count": 47,
   "id": "8ab17b2b-9f71-4593-bf66-0835d28c56a4",
   "metadata": {},
   "outputs": [
    {
     "name": "stdout",
     "output_type": "stream",
     "text": [
      "[1, 3, 12, 0, 0]\n"
     ]
    }
   ],
   "source": [
    "nums = [0, 1, 0, 3, 12]\n",
    "moveZeroes(nums)\n",
    "print(nums) "
   ]
  },
  {
   "cell_type": "markdown",
   "id": "1ef2e9a4-6f2b-4160-abd8-1aa04de97187",
   "metadata": {},
   "source": [
    "<aside>\n",
    "💡 **Q8.** You have a set of integers s, which originally contains all the numbers from 1 to n. Unfortunately, due to some error, one of the numbers in s got duplicated to another number in the set, which results in repetition of one number and loss of another number.\n",
    "\n",
    "You are given an integer array nums representing the data status of this set after the error.\n",
    "\n",
    "Find the number that occurs twice and the number that is missing and return them in the form of an array.\n",
    "\n",
    "**Example 1:**\n",
    "Input: nums = [1,2,2,4]\n",
    "Output: [2,3]\n",
    "\n",
    "</aside>"
   ]
  },
  {
   "cell_type": "code",
   "execution_count": null,
   "id": "1f154fc4-9d9d-42d2-bea1-455729eea90f",
   "metadata": {},
   "outputs": [],
   "source": []
  }
 ],
 "metadata": {
  "kernelspec": {
   "display_name": "Python 3 (ipykernel)",
   "language": "python",
   "name": "python3"
  },
  "language_info": {
   "codemirror_mode": {
    "name": "ipython",
    "version": 3
   },
   "file_extension": ".py",
   "mimetype": "text/x-python",
   "name": "python",
   "nbconvert_exporter": "python",
   "pygments_lexer": "ipython3",
   "version": "3.10.6"
  }
 },
 "nbformat": 4,
 "nbformat_minor": 5
}
